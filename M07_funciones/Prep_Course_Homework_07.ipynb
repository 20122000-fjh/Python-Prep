{
 "cells": [
  {
   "attachments": {},
   "cell_type": "markdown",
   "metadata": {},
   "source": [
    "## Funciones"
   ]
  },
  {
   "attachments": {},
   "cell_type": "markdown",
   "metadata": {},
   "source": [
    "1) Crear una función que reciba un número como parámetro y devuelva True si es primo y False si no lo es"
   ]
  },
  {
   "cell_type": "code",
   "execution_count": null,
   "metadata": {},
   "outputs": [],
   "source": [
    "def primo(numero):\n",
    "    esprimo = True\n",
    "    for i in range(2,numero):\n",
    "        if numero % i == 0:\n",
    "            esprimo = False\n",
    "            break\n",
    "    return esprimo"
   ]
  },
  {
   "attachments": {},
   "cell_type": "markdown",
   "metadata": {},
   "source": [
    "2) Utilizando la función del punto 1, realizar otra función que reciba de parámetro una lista de números y devuelva sólo aquellos que son primos en otra lista"
   ]
  },
  {
   "cell_type": "code",
   "execution_count": null,
   "metadata": {},
   "outputs": [],
   "source": [
    "def primo(lista_numeros):\n",
    "    lista_nueva = []\n",
    "    esprimo = True\n",
    "    for i in lista_numeros:\n",
    "        if primo(i):\n",
    "            lista_nueva.append(i)\n",
    "    return lista_nueva\n",
    "            \n"
   ]
  },
  {
   "attachments": {},
   "cell_type": "markdown",
   "metadata": {},
   "source": [
    "3) Crear una función que al recibir una lista de números, devuelva el que más se repite y cuántas veces lo hace. Si hay más de un \"más repetido\", que devuelva cualquiera"
   ]
  },
  {
   "cell_type": "code",
   "execution_count": null,
   "metadata": {},
   "outputs": [],
   "source": [
    "def max_repetido(lista_numeros):\n",
    "    lista_unicos = []\n",
    "    lista_repeticiones = []\n",
    "    for i in lista_numeros:\n",
    "        if i in lista_unicos:\n",
    "            r = lista_unicos.index(i)\n",
    "            lista_repeticiones[r] += 1\n",
    "        else:\n",
    "            lista_unicos.append(i)\n",
    "            lista_repeticiones.append(1)\n",
    "    repetido = lista_unicos[0]\n",
    "    maximo = lista_repeticiones[0]\n",
    "    for i,e in enumerate(lista_unicos):\n",
    "        if lista_repeticiones[i] > maximo:\n",
    "            repetido = lista_unicos[i]\n",
    "            maximo = lista_repeticiones[i]\n",
    "    return repetido,maximo"
   ]
  },
  {
   "attachments": {},
   "cell_type": "markdown",
   "metadata": {},
   "source": [
    "4) Crear una función que convierta entre grados Celsius, Farenheit y Kelvin<br>\n",
    "Fórmula 1\t: (°C × 9/5) + 32 = °F<br>\n",
    "Fórmula 2\t: °C + 273.15 = °K<br>\n",
    "Debe recibir 3 parámetros: el valor, la medida de orígen y la medida de destino\n"
   ]
  },
  {
   "cell_type": "code",
   "execution_count": null,
   "metadata": {},
   "outputs": [],
   "source": [
    "def convertir_temperatura(valor,medida_origen,medida_destino):\n",
    "    temperatura = valor\n",
    "    if medida_origen == 'celsius':\n",
    "        if medida_destino == 'farenheit':\n",
    "            temperatura = (valor * 9/5) + 32\n",
    "        if medida_destino == 'kelvin':\n",
    "            temperatura = valor + 273.15\n",
    "    if medida_origen == 'kelvin':\n",
    "        if medida_destino == 'celsius':\n",
    "            temperatura = valor - 273.15\n",
    "        if medida_destino == 'farenheit':\n",
    "            temperatura = ((valor -273.15)*1.8)+32\n",
    "    if medida_origen == 'farenheit':\n",
    "        if medida_destino == 'celsius':\n",
    "            temperatura = (valor - 32)/(9/5)\n",
    "        if medida_destino == 'kelvin':\n",
    "            temperatura = ((valor -32)/1.8)+273.15\n",
    "    return temperatura"
   ]
  },
  {
   "attachments": {},
   "cell_type": "markdown",
   "metadata": {},
   "source": [
    "5) Iterando una lista con los tres valores posibles de temperatura que recibe la función del punto 5, hacer un print para cada combinación de los mismos:"
   ]
  },
  {
   "cell_type": "code",
   "execution_count": null,
   "metadata": {},
   "outputs": [],
   "source": [
    "lista_medidas=['celsius','kelvin','farenheit']\n",
    "for i in range(0,3):\n",
    "    for j in range(0,3):\n",
    "        print(convertir_temperatura(1,lista_medidas[i],lista_medidas[j]))"
   ]
  },
  {
   "attachments": {},
   "cell_type": "markdown",
   "metadata": {},
   "source": [
    "6) Armar una función que devuelva el factorial de un número. Tener en cuenta que el usuario puede equivocarse y enviar de parámetro un número no entero o negativo"
   ]
  },
  {
   "cell_type": "code",
   "execution_count": null,
   "metadata": {},
   "outputs": [],
   "source": [
    "def factorial(self,valor):\n",
    "    if type(valor)!= int:\n",
    "        print('El numero debe ser un numero entero')\n",
    "    if valor < 0:\n",
    "        print('El numero debe ser un numero positivo')\n",
    "    if (valor > 1):\n",
    "        valor = valor * self.factorial(valor - 1)\n",
    "    return valor\n"
   ]
  }
 ],
 "metadata": {
  "interpreter": {
   "hash": "c85384e4cb51c8b72350f3a8712cc8351fdc3955e32a27f9b60c6242ab125f01"
  },
  "kernelspec": {
   "display_name": "Python 3 (ipykernel)",
   "language": "python",
   "name": "python3"
  },
  "language_info": {
   "codemirror_mode": {
    "name": "ipython",
    "version": 3
   },
   "file_extension": ".py",
   "mimetype": "text/x-python",
   "name": "python",
   "nbconvert_exporter": "python",
   "pygments_lexer": "ipython3",
   "version": "3.9.7"
  }
 },
 "nbformat": 4,
 "nbformat_minor": 4
}
