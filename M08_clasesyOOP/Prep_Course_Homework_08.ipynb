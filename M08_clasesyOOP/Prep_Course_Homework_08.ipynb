{
 "cells": [
  {
   "attachments": {},
   "cell_type": "markdown",
   "metadata": {},
   "source": [
    "## Clases y Programación Orientada a Objetos"
   ]
  },
  {
   "attachments": {},
   "cell_type": "markdown",
   "metadata": {},
   "source": [
    "1) Crear la clase vehículo que contenga los atributos:<br>\n",
    "Color<br>\n",
    "Si es moto, auto, camioneta ó camión<br>\n",
    "Cilindrada del motor"
   ]
  },
  {
   "cell_type": "code",
   "execution_count": null,
   "metadata": {},
   "outputs": [],
   "source": [
    "class Vehículo:\n",
    "    def __init__(self,color,tipo,cilindrada):\n",
    "        self.color = color\n",
    "        self.tipo = tipo\n",
    "        self.cilindrada = cilindrada"
   ]
  },
  {
   "attachments": {},
   "cell_type": "markdown",
   "metadata": {},
   "source": [
    "2) A la clase Vehiculo creada en el punto 1, agregar los siguientes métodos:<br>\n",
    "Acelerar<br>\n",
    "Frenar<br>\n",
    "Doblar<br>"
   ]
  },
  {
   "cell_type": "code",
   "execution_count": null,
   "metadata": {},
   "outputs": [],
   "source": [
    "class Vehículo:\n",
    "    def __init__(self,color,tipo,cilindrada):\n",
    "        self.color = color\n",
    "        self.tipo = tipo\n",
    "        self.cilindrada = cilindrada\n",
    "        self.velocidad = 0\n",
    "        self.doblara = 'hacia delante'\n",
    "    \n",
    "    def acelerar(self):\n",
    "        for i in range(0,200):\n",
    "            self.velocidad = i\n",
    "\n",
    "    def frenar(self):\n",
    "        while self.velocidad != 0:\n",
    "            self.velocidad -= 1\n",
    "    \n",
    "    def doblar(self,direccion):\n",
    "        self.doblara = direccion"
   ]
  },
  {
   "attachments": {},
   "cell_type": "markdown",
   "metadata": {},
   "source": [
    "3) Instanciar 3 objetos de la clase vehículo y ejecutar sus métodos, probar luego el resultado"
   ]
  },
  {
   "cell_type": "code",
   "execution_count": null,
   "metadata": {},
   "outputs": [],
   "source": [
    "auto = Vehículo('rojo','auto',200)\n",
    "print(auto.velocidad)\n",
    "auto.acelerar()\n",
    "print(auto.velocidad)\n",
    "auto.frenar()\n",
    "print(auto.velocidad)\n",
    "print(auto.doblara)\n",
    "auto.doblar('la izquierda')\n",
    "print(auto.doblara)\n",
    "camion = Vehículo('negro','camion',300)\n",
    "print(camion.velocidad)\n",
    "camion.acelerar()\n",
    "print(camion.velocidad)\n",
    "camion.frenar()\n",
    "print(camion.velocidad)\n",
    "print(camion.doblara)\n",
    "camion.doblar('la izquierda')\n",
    "print(camion.doblara)\n",
    "moto = Vehículo('blanco','moto',150)\n",
    "print(moto.velocidad)\n",
    "moto.acelerar()\n",
    "print(moto.velocidad)\n",
    "moto.frenar()\n",
    "print(moto.velocidad)\n",
    "print(moto.doblara)\n",
    "moto.doblar('la izquierda')\n",
    "print(moto.doblara)"
   ]
  },
  {
   "attachments": {},
   "cell_type": "markdown",
   "metadata": {},
   "source": [
    "4) Agregar a la clase Vehiculo, un método que muestre su estado, es decir, a que velocidad se encuentra y su dirección. Y otro método que muestre color, tipo y cilindrada"
   ]
  },
  {
   "cell_type": "code",
   "execution_count": null,
   "metadata": {},
   "outputs": [],
   "source": [
    "class Vehículo:\n",
    "    def __init__(self,color,tipo,cilindrada):\n",
    "        self.color = color\n",
    "        self.tipo = tipo\n",
    "        self.cilindrada = cilindrada\n",
    "        self.velocidad = 0\n",
    "        self.doblara = 'el frente'\n",
    "    \n",
    "    def acelerar(self):\n",
    "        for i in range(0,200):\n",
    "            self.velocidad = i\n",
    "\n",
    "    def frenar(self):\n",
    "        while self.velocidad != 0:\n",
    "            self.velocidad -= 1\n",
    "    \n",
    "    def doblar(self,direccion):\n",
    "        self.doblara = direccion\n",
    "\n",
    "    def mostrar_estado(self):\n",
    "        print('El vehículo está andando a ', self.velocidad,'km/h y viaja hacia ',self.doblara)\n",
    "\n",
    "    def mostrar_info(self):\n",
    "        print('Este vehículo es un/a ',self.tipo,' de color ',self.color,'con una cilindrada de ',self.cilindrada)"
   ]
  },
  {
   "attachments": {},
   "cell_type": "markdown",
   "metadata": {},
   "source": [
    "5) Crear una clase que permita utilizar las funciones creadas en la práctica del módulo 7<br>\n",
    "Verificar Primo<br>\n",
    "Valor modal<br>\n",
    "Conversión grados<br>\n",
    "Factorial<br>"
   ]
  },
  {
   "cell_type": "code",
   "execution_count": null,
   "metadata": {},
   "outputs": [],
   "source": [
    "class Numero:\n",
    "    def __init__(self) -> None:\n",
    "        pass\n",
    "\n",
    "    def factorial(self,valor):\n",
    "        if type(valor)!= int:\n",
    "            print('El numero debe ser un numero entero')\n",
    "        if valor < 0:\n",
    "            print('El numero debe ser un numero positivo')\n",
    "        if (valor > 1):\n",
    "            valor = valor * self.factorial(valor - 1)\n",
    "        return valor\n",
    "    \n",
    "    def primo(self,valor):\n",
    "        esprimo = True\n",
    "        for i in range(2,valor):\n",
    "            if valor % i == 0:\n",
    "                esprimo = False\n",
    "                break\n",
    "        return esprimo\n",
    "    \n",
    "    def max_repetido(self,lista_numeros):\n",
    "        lista_unicos = []\n",
    "        lista_repeticiones = []\n",
    "        for i in lista_numeros:\n",
    "            if i in lista_unicos:\n",
    "                r = lista_unicos.index(i)\n",
    "                lista_repeticiones[r] += 1\n",
    "            else:\n",
    "                lista_unicos.append(i)\n",
    "                lista_repeticiones.append(1)\n",
    "        repetido = lista_unicos[0]\n",
    "        maximo = lista_repeticiones[0]\n",
    "        for i,e in enumerate(lista_unicos):\n",
    "            if lista_repeticiones[i] > maximo:\n",
    "                repetido = lista_unicos[i]\n",
    "                maximo = lista_repeticiones[i]\n",
    "        return repetido,maximo\n",
    "    \n",
    "    def convertir_temperatura(self,valor,medida_origen,medida_destino):\n",
    "        temperatura = valor\n",
    "        if medida_origen == 'celsius':\n",
    "            if medida_destino == 'farenheit':\n",
    "                temperatura = (valor * 9/5) + 32\n",
    "            if medida_destino == 'kelvin':\n",
    "                temperatura = valor + 273.15\n",
    "        if medida_origen == 'kelvin':\n",
    "            if medida_destino == 'celsius':\n",
    "                temperatura = valor - 273.15\n",
    "            if medida_destino == 'farenheit':\n",
    "                temperatura = ((valor -273.15)*1.8)+32\n",
    "        if medida_origen == 'farenheit':\n",
    "            if medida_destino == 'celsius':\n",
    "                temperatura = (valor - 32)/(9/5)\n",
    "            if medida_destino == 'kelvin':\n",
    "                temperatura = ((valor -32)/1.8)+273.15\n",
    "        return temperatura"
   ]
  },
  {
   "attachments": {},
   "cell_type": "markdown",
   "metadata": {},
   "source": [
    "6) Probar las funciones incorporadas en la clase del punto 5"
   ]
  },
  {
   "cell_type": "code",
   "execution_count": null,
   "metadata": {},
   "outputs": [],
   "source": [
    "numerito = Numero()\n",
    "lista = [5,6,5,8]\n",
    "print(numerito.factorial(5))\n",
    "print(numerito.primo(5))\n",
    "print(numerito.max_repetido(lista))\n",
    "print(numerito.convertir_temperatura(273,'celsius','kelvin'))"
   ]
  },
  {
   "attachments": {},
   "cell_type": "markdown",
   "metadata": {},
   "source": [
    "7) Es necesario que la clase creada en el punto 5 contenga una lista, sobre la cual se apliquen las funciones incorporadas"
   ]
  },
  {
   "cell_type": "code",
   "execution_count": null,
   "metadata": {},
   "outputs": [],
   "source": [
    "class Numero:\n",
    "    def __init__(self,lista):\n",
    "        self.lista = lista\n",
    "\n",
    "    def factorial_lista(self):\n",
    "        for i in self.lista:\n",
    "            print('El factorial del elemento ',i,' es: ',self.factorial(i))\n",
    "    \n",
    "    def primo_lista(self):\n",
    "        for i in self.lista:\n",
    "            if (self.primo(i)):\n",
    "                print('El elemento ',self.lista[i],' es primo')\n",
    "            else:\n",
    "                print('El elemento ',self.lista[i],' no es primo')\n",
    "\n",
    "    def convertir_temperatura_lista(self,medida_origen,medida_destino):\n",
    "        for i in self.lista:\n",
    "            print(i, 'grados ',medida_origen,' son ',self.convertir_temperatura(self.lista[i],medida_origen,medida_destino),' grados ', medida_destino)\n",
    "\n",
    "\n",
    "    def factorial(self,valor):\n",
    "        if type(valor)!= int:\n",
    "            print('El numero debe ser un numero entero')\n",
    "        if valor < 0:\n",
    "            print('El numero debe ser un numero positivo')\n",
    "        if (valor > 1):\n",
    "            valor = valor * self.factorial(valor - 1)\n",
    "        return valor\n",
    "    \n",
    "    def primo(self,valor):\n",
    "        esprimo = True\n",
    "        for i in range(2,valor):\n",
    "            if valor % i == 0:\n",
    "                esprimo = False\n",
    "                break\n",
    "        return esprimo\n",
    "    \n",
    "    def max_repetido(self):\n",
    "        lista_unicos = []\n",
    "        lista_repeticiones = []\n",
    "        for i in self.lista:\n",
    "            if i in lista_unicos:\n",
    "                r = lista_unicos.index(i)\n",
    "                lista_repeticiones[r] += 1\n",
    "            else:\n",
    "                lista_unicos.append(i)\n",
    "                lista_repeticiones.append(1)\n",
    "        repetido = lista_unicos[0]\n",
    "        maximo = lista_repeticiones[0]\n",
    "        for i,e in enumerate(lista_unicos):\n",
    "            if lista_repeticiones[i] > maximo:\n",
    "                repetido = lista_unicos[i]\n",
    "                maximo = lista_repeticiones[i]\n",
    "        return repetido,maximo\n",
    "    \n",
    "    def convertir_temperatura(self,valor,medida_origen,medida_destino):\n",
    "        temperatura = valor\n",
    "        if medida_origen == 'celsius':\n",
    "            if medida_destino == 'farenheit':\n",
    "                temperatura = (valor * 9/5) + 32\n",
    "            if medida_destino == 'kelvin':\n",
    "                temperatura = valor + 273.15\n",
    "        if medida_origen == 'kelvin':\n",
    "            if medida_destino == 'celsius':\n",
    "                temperatura = valor - 273.15\n",
    "            if medida_destino == 'farenheit':\n",
    "                temperatura = ((valor -273.15)*1.8)+32\n",
    "        if medida_origen == 'farenheit':\n",
    "            if medida_destino == 'celsius':\n",
    "                temperatura = (valor - 32)/(9/5)\n",
    "            if medida_destino == 'kelvin':\n",
    "                temperatura = ((valor -32)/1.8)+273.15\n",
    "        return temperatura"
   ]
  },
  {
   "attachments": {},
   "cell_type": "markdown",
   "metadata": {},
   "source": [
    "8) Crear un archivo .py aparte y ubicar allí la clase generada en el punto anterior. Luego realizar la importación del módulo y probar alguna de sus funciones"
   ]
  },
  {
   "cell_type": "code",
   "execution_count": null,
   "metadata": {},
   "outputs": [
    {
     "ename": "",
     "evalue": "",
     "output_type": "error",
     "traceback": [
      "\u001b[1;31mRunning cells with '/usr/bin/python3' requires the ipykernel package.\n",
      "\u001b[1;31mRun the following command to install 'ipykernel' into the Python environment. \n",
      "\u001b[1;31mCommand: '/usr/bin/python3 -m pip install ipykernel -U --user --force-reinstall'"
     ]
    }
   ],
   "source": [
    "from modulo import *\n",
    "\n",
    "numerito = Numero([5,6,5,8])\n",
    "\n",
    "numerito.primo_lista()"
   ]
  }
 ],
 "metadata": {
  "interpreter": {
   "hash": "c85384e4cb51c8b72350f3a8712cc8351fdc3955e32a27f9b60c6242ab125f01"
  },
  "kernelspec": {
   "display_name": "Python 3 (ipykernel)",
   "language": "python",
   "name": "python3"
  },
  "language_info": {
   "codemirror_mode": {
    "name": "ipython",
    "version": 3
   },
   "file_extension": ".py",
   "mimetype": "text/x-python",
   "name": "python",
   "nbconvert_exporter": "python",
   "pygments_lexer": "ipython3",
   "version": "3.10.13"
  }
 },
 "nbformat": 4,
 "nbformat_minor": 4
}
