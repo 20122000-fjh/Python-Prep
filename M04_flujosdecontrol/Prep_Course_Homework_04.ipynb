{
 "cells": [
  {
   "attachments": {},
   "cell_type": "markdown",
   "metadata": {},
   "source": [
    "## Flujos de Control"
   ]
  },
  {
   "attachments": {},
   "cell_type": "markdown",
   "metadata": {},
   "source": [
    "1) Crear una variable que contenga un elemento del conjunto de números enteros y luego imprimir por pantalla si es mayor o menor a cero"
   ]
  },
  {
   "cell_type": "code",
   "execution_count": 2,
   "metadata": {},
   "outputs": [
    {
     "name": "stdout",
     "output_type": "stream",
     "text": [
      "El valor es menor a 0\n"
     ]
    }
   ],
   "source": [
    "num = -5\n",
    "if num>0:\n",
    "  print(\"Valor mayor a 0\")\n",
    "elif num<0:\n",
    "  print(\"El valor es menor a 0\")\n"
   ]
  },
  {
   "attachments": {},
   "cell_type": "markdown",
   "metadata": {},
   "source": [
    "2) Crear dos variables y un condicional que informe si son del mismo tipo de dato"
   ]
  },
  {
   "cell_type": "code",
   "execution_count": 4,
   "metadata": {},
   "outputs": [
    {
     "name": "stdout",
     "output_type": "stream",
     "text": [
      "Son del mismo tipo\n"
     ]
    }
   ],
   "source": [
    "num1 = 6\n",
    "carac = \"Hola\"\n",
    "if type(num)==type(num1):\n",
    "  print(\"Son del mismo tipo\")\n",
    "else:\n",
    "  print(\"No son del mismo tipo\")"
   ]
  },
  {
   "attachments": {},
   "cell_type": "markdown",
   "metadata": {},
   "source": [
    "3) Para los valores enteros del 1 al 20, imprimir por pantalla si es par o impar"
   ]
  },
  {
   "cell_type": "code",
   "execution_count": 6,
   "metadata": {},
   "outputs": [
    {
     "name": "stdout",
     "output_type": "stream",
     "text": [
      "Es un número impar\n",
      "Es un numero par\n",
      "Es un número impar\n",
      "Es un numero par\n",
      "Es un número impar\n",
      "Es un numero par\n",
      "Es un número impar\n",
      "Es un numero par\n",
      "Es un número impar\n",
      "Es un numero par\n",
      "Es un número impar\n",
      "Es un numero par\n",
      "Es un número impar\n",
      "Es un numero par\n",
      "Es un número impar\n",
      "Es un numero par\n",
      "Es un número impar\n",
      "Es un numero par\n",
      "Es un número impar\n",
      "Es un numero par\n"
     ]
    }
   ],
   "source": [
    "for i in range(1,21):\n",
    "  if i % 2 == 0:\n",
    "    print(\"Es un numero par\")\n",
    "  else:\n",
    "    print(\"Es un número impar\")\n",
    "  "
   ]
  },
  {
   "attachments": {},
   "cell_type": "markdown",
   "metadata": {},
   "source": [
    "4) En un ciclo for mostrar para los valores entre 0 y 5 el resultado de elevarlo a la potencia igual a 3"
   ]
  },
  {
   "cell_type": "code",
   "execution_count": 12,
   "metadata": {},
   "outputs": [
    {
     "name": "stdout",
     "output_type": "stream",
     "text": [
      "0\n",
      "1\n",
      "8\n",
      "27\n",
      "64\n",
      "125\n"
     ]
    }
   ],
   "source": [
    "for i in range(0,6):\n",
    "  print(i**3)"
   ]
  },
  {
   "attachments": {},
   "cell_type": "markdown",
   "metadata": {},
   "source": [
    "5) Crear una variable que contenga un número entero y realizar un ciclo for la misma cantidad de ciclos"
   ]
  },
  {
   "cell_type": "code",
   "execution_count": 11,
   "metadata": {},
   "outputs": [
    {
     "name": "stdout",
     "output_type": "stream",
     "text": [
      "Iteracion  1\n",
      "Iteracion  2\n",
      "Iteracion  3\n",
      "Iteracion  4\n",
      "Iteracion  5\n"
     ]
    }
   ],
   "source": [
    "num = 5\n",
    "for i in range(1,num+1):\n",
    "  print(\"Iteracion \",i)"
   ]
  },
  {
   "attachments": {},
   "cell_type": "markdown",
   "metadata": {},
   "source": [
    "6) Utilizar un ciclo while para realizar el factorial de un número guardado en una variable, sólo si la variable contiene un número entero mayor a 0"
   ]
  },
  {
   "cell_type": "code",
   "execution_count": 18,
   "metadata": {},
   "outputs": [
    {
     "name": "stdout",
     "output_type": "stream",
     "text": [
      "El factorial es 24\n"
     ]
    }
   ],
   "source": [
    "num = 4\n",
    "factorial = num\n",
    "if num>0:\n",
    "  while(num > 2):\n",
    "    num = num - 1\n",
    "    factorial = factorial * num\n",
    "elif num == 0:\n",
    "  factorial = 1\n",
    "else :\n",
    "  print(\"Ingrese un entero\")\n",
    "if factorial != num:\n",
    "  print(f\"El factorial es {factorial}\")"
   ]
  },
  {
   "attachments": {},
   "cell_type": "markdown",
   "metadata": {},
   "source": [
    "7) Crear un ciclo for dentro de un ciclo while"
   ]
  },
  {
   "cell_type": "code",
   "execution_count": 5,
   "metadata": {},
   "outputs": [
    {
     "name": "stdout",
     "output_type": "stream",
     "text": [
      "Hola  0 0\n",
      "Hola  0 1\n",
      "Hola  0 2\n",
      "Hola  0 3\n",
      "Hola  0 4\n",
      "Hola  1 0\n",
      "Hola  1 1\n",
      "Hola  1 2\n",
      "Hola  1 3\n",
      "Hola  1 4\n",
      "Hola  2 0\n",
      "Hola  2 1\n",
      "Hola  2 2\n",
      "Hola  2 3\n",
      "Hola  2 4\n",
      "Hola  3 0\n",
      "Hola  3 1\n",
      "Hola  3 2\n",
      "Hola  3 3\n",
      "Hola  3 4\n",
      "Hola  4 0\n",
      "Hola  4 1\n",
      "Hola  4 2\n",
      "Hola  4 3\n",
      "Hola  4 4\n"
     ]
    }
   ],
   "source": [
    "i = 0\n",
    "while i <5:\n",
    "  for j in range(0,5):\n",
    "   print(\"Hola \",i,j)\n",
    "  i += 1"
   ]
  },
  {
   "attachments": {},
   "cell_type": "markdown",
   "metadata": {},
   "source": [
    "8) Crear un ciclo while dentro de un ciclo for"
   ]
  },
  {
   "cell_type": "code",
   "execution_count": 7,
   "metadata": {},
   "outputs": [
    {
     "name": "stdout",
     "output_type": "stream",
     "text": [
      "0 0\n",
      "0 1\n",
      "0 2\n",
      "0 3\n",
      "0 4\n",
      "1 0\n",
      "1 1\n",
      "1 2\n",
      "1 3\n",
      "1 4\n",
      "2 0\n",
      "2 1\n",
      "2 2\n",
      "2 3\n",
      "2 4\n",
      "3 0\n",
      "3 1\n",
      "3 2\n",
      "3 3\n",
      "3 4\n",
      "4 0\n",
      "4 1\n",
      "4 2\n",
      "4 3\n",
      "4 4\n"
     ]
    }
   ],
   "source": [
    "j=0\n",
    "for i in range(0,5):\n",
    "  j=0\n",
    "  while j<5:\n",
    "    print(i,j)\n",
    "    j += 1"
   ]
  },
  {
   "attachments": {},
   "cell_type": "markdown",
   "metadata": {},
   "source": [
    "9) Imprimir los números primos existentes entre 0 y 30"
   ]
  },
  {
   "cell_type": "code",
   "execution_count": 21,
   "metadata": {},
   "outputs": [
    {
     "name": "stdout",
     "output_type": "stream",
     "text": [
      "0\n",
      "1\n",
      "2\n",
      "3\n",
      "5\n",
      "7\n",
      "11\n",
      "13\n",
      "17\n",
      "19\n",
      "23\n",
      "29\n"
     ]
    }
   ],
   "source": [
    "primo = True\n",
    "for numero in range(0,30):\n",
    "  for j in range(2,numero):\n",
    "    if numero%j==0:\n",
    "      primo = False\n",
    "  if primo:\n",
    "    print(numero)\n",
    "  else:\n",
    "    primo = True\n"
   ]
  },
  {
   "attachments": {},
   "cell_type": "markdown",
   "metadata": {},
   "source": [
    "10) ¿Se puede mejorar el proceso del punto 9? Utilizar las sentencias break y/ó continue para tal fin"
   ]
  },
  {
   "cell_type": "code",
   "execution_count": 1,
   "metadata": {},
   "outputs": [
    {
     "name": "stdout",
     "output_type": "stream",
     "text": [
      "0\n",
      "1\n",
      "2\n",
      "3\n",
      "5\n",
      "7\n",
      "11\n",
      "13\n",
      "17\n",
      "19\n",
      "23\n",
      "29\n"
     ]
    }
   ],
   "source": [
    "primo = True\n",
    "for numero in range(0,30):\n",
    "  for j in range(2,numero):\n",
    "    if numero%j==0:\n",
    "      primo = False\n",
    "      break\n",
    "  if primo:\n",
    "    print(numero)\n",
    "  else:\n",
    "    primo = True"
   ]
  },
  {
   "attachments": {},
   "cell_type": "markdown",
   "metadata": {},
   "source": [
    "11) En los puntos 9 y 10, se diseño un código que encuentra números primos y además se lo optimizó. ¿Es posible saber en qué medida se optimizó?"
   ]
  },
  {
   "cell_type": "code",
   "execution_count": 2,
   "metadata": {},
   "outputs": [
    {
     "name": "stdout",
     "output_type": "stream",
     "text": [
      "0\n",
      "1\n",
      "2\n",
      "3\n",
      "5\n",
      "7\n",
      "11\n",
      "13\n",
      "17\n",
      "19\n",
      "23\n",
      "29\n",
      "0\n",
      "1\n",
      "2\n",
      "3\n",
      "5\n",
      "7\n",
      "11\n",
      "13\n",
      "17\n",
      "19\n",
      "23\n",
      "29\n",
      "El primer código realiza 378 ciclos\n",
      "El segundo código realiza 134 ciclos\n"
     ]
    }
   ],
   "source": [
    "ciclos1 = 0\n",
    "ciclos2 = 0\n",
    "\n",
    "primo = True\n",
    "for numero in range(0,30):\n",
    "  for j in range(2,numero):\n",
    "    ciclos1+=1\n",
    "    if numero%j==0:\n",
    "      primo = False\n",
    "  if primo:\n",
    "    print(numero)\n",
    "  else:\n",
    "    primo = True\n",
    "\n",
    "\n",
    "primo = True\n",
    "for numero in range(0,30):\n",
    "  for j in range(2,numero):\n",
    "    ciclos2+=1\n",
    "    if numero%j==0:\n",
    "      primo = False\n",
    "      break\n",
    "  if primo:\n",
    "    print(numero)\n",
    "  else:\n",
    "    primo = True\n",
    "\n",
    "print(\"El primer código realiza \" + str(ciclos1) +\" ciclos\")\n",
    "print(\"El segundo código realiza \" + str(ciclos2) + \" ciclos\")"
   ]
  },
  {
   "attachments": {},
   "cell_type": "markdown",
   "metadata": {},
   "source": [
    "12) Aplicando continue, armar un ciclo while que solo imprima los valores divisibles por 12, dentro del rango de números de 100 a 300"
   ]
  },
  {
   "cell_type": "code",
   "execution_count": 4,
   "metadata": {},
   "outputs": [
    {
     "name": "stdout",
     "output_type": "stream",
     "text": [
      "108\n",
      "120\n",
      "132\n",
      "144\n",
      "156\n",
      "168\n",
      "180\n",
      "192\n",
      "204\n",
      "216\n",
      "228\n",
      "240\n",
      "252\n",
      "264\n",
      "276\n",
      "288\n",
      "300\n"
     ]
    }
   ],
   "source": [
    "i = 99\n",
    "while i <= 300:\n",
    "  i += 1\n",
    "  if i%12 == 0:\n",
    "    print(i)\n",
    "  else:\n",
    "    continue"
   ]
  },
  {
   "attachments": {},
   "cell_type": "markdown",
   "metadata": {},
   "source": [
    "13) Utilizar la función **input()** que permite hacer ingresos por teclado, para encontrar números primos y dar la opción al usario de buscar el siguiente"
   ]
  },
  {
   "cell_type": "code",
   "execution_count": 12,
   "metadata": {},
   "outputs": [
    {
     "name": "stdout",
     "output_type": "stream",
     "text": [
      "Quiere conocer el siguiente primo. Si es así ingrese 1 sino ingrese 0\n",
      "0\n"
     ]
    }
   ],
   "source": [
    "primo = True\n",
    "bandera = 1\n",
    "while bandera == 1:\n",
    "  for j in range(2,numero):\n",
    "    if numero%j==0:\n",
    "      primo = False\n",
    "  if primo:\n",
    "    print(numero)\n",
    "  else:\n",
    "    primo = True\n",
    "  numero += 1\n",
    "  print(\"Quiere conocer el siguiente primo. Si es así ingrese 1 sino ingrese 0\")\n",
    "  bandera = input()\n",
    "  print(bandera)\n"
   ]
  },
  {
   "attachments": {},
   "cell_type": "markdown",
   "metadata": {},
   "source": [
    "14) Crear un ciclo while que encuentre dentro del rango de 100 a 300 el primer número divisible por 3 y además múltiplo de 6"
   ]
  },
  {
   "cell_type": "code",
   "execution_count": 14,
   "metadata": {},
   "outputs": [
    {
     "name": "stdout",
     "output_type": "stream",
     "text": [
      "102\n"
     ]
    }
   ],
   "source": [
    "i = 100\n",
    "while i <= 300:\n",
    "  if i%6 == 0 & i%3 == 0:\n",
    "    print(i)\n",
    "    break\n",
    "  i+= 1"
   ]
  }
 ],
 "metadata": {
  "interpreter": {
   "hash": "c85384e4cb51c8b72350f3a8712cc8351fdc3955e32a27f9b60c6242ab125f01"
  },
  "kernelspec": {
   "display_name": "Python 3 (ipykernel)",
   "language": "python",
   "name": "python3"
  },
  "language_info": {
   "codemirror_mode": {
    "name": "ipython",
    "version": 3
   },
   "file_extension": ".py",
   "mimetype": "text/x-python",
   "name": "python",
   "nbconvert_exporter": "python",
   "pygments_lexer": "ipython3",
   "version": "3.10.6"
  }
 },
 "nbformat": 4,
 "nbformat_minor": 4
}
