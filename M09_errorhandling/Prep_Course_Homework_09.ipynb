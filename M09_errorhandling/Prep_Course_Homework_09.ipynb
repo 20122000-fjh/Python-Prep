{
 "cells": [
  {
   "attachments": {},
   "cell_type": "markdown",
   "metadata": {},
   "source": [
    "## Manejo de errores"
   ]
  },
  {
   "attachments": {},
   "cell_type": "markdown",
   "metadata": {},
   "source": [
    "1) Con la clase creada en el módulo 7, tener en cuenta diferentes casos en que el código pudiera arrojar error. Por ejemplo, en la creación del objeto recibimos una lista de números enteros pero ¿qué pasa si se envía otro tipo de dato?"
   ]
  },
  {
   "cell_type": "code",
   "execution_count": null,
   "metadata": {},
   "outputs": [],
   "source": [
    "class Numero:\n",
    "    def __init__(self,lista):\n",
    "        self.lista = lista\n",
    "\n",
    "    def factorial_lista(self):\n",
    "        for i in self.lista:\n",
    "            print('El factorial del elemento ',i,' es: ',self.factorial(i))\n",
    "    \n",
    "    def primo_lista(self):\n",
    "        for i in self.lista:\n",
    "            if self.primo == True:\n",
    "                print('El elemento ',self.lista[i],' es primo')\n",
    "            if self.primo == False:\n",
    "                print('El elemento ',self.lista[i],' no es primo')\n",
    "\n",
    "    def convertir_temperatura_lista(self,medida_origen,medida_destino):\n",
    "        for i in self.lista:\n",
    "            print(i, 'grados ',medida_origen,' son ',self.convertir_temperatura(self.lista[i],medida_origen,medida_destino),' grados ', medida_destino)\n",
    "\n",
    "\n",
    "    def factorial(self,valor):\n",
    "        if type(valor)!= int:\n",
    "            print('El numero debe ser un numero entero')\n",
    "        if valor < 0:\n",
    "            print('El numero debe ser un numero positivo')\n",
    "        if (valor > 1):\n",
    "            valor = valor * self.factorial(valor - 1)\n",
    "        return valor\n",
    "    \n",
    "    def primo(self,valor):\n",
    "        esprimo = True\n",
    "        for i in range(2,valor):\n",
    "            if valor % i == 0:\n",
    "                esprimo = False\n",
    "                break\n",
    "        return esprimo\n",
    "    \n",
    "    def max_repetido(self):\n",
    "        lista_unicos = []\n",
    "        lista_repeticiones = []\n",
    "        for i in self.lista:\n",
    "            if i in lista_unicos:\n",
    "                r = lista_unicos.index(i)\n",
    "                lista_repeticiones[r] += 1\n",
    "            else:\n",
    "                lista_unicos.append(i)\n",
    "                lista_repeticiones.append(1)\n",
    "        repetido = lista_unicos[0]\n",
    "        maximo = lista_repeticiones[0]\n",
    "        for i,e in enumerate(lista_unicos):\n",
    "            if lista_repeticiones[i] > maximo:\n",
    "                repetido = lista_unicos[i]\n",
    "                maximo = lista_repeticiones[i]\n",
    "        return repetido,maximo\n",
    "    \n",
    "    def convertir_temperatura(self,valor,medida_origen,medida_destino):\n",
    "        temperatura = valor\n",
    "        if medida_origen == 'celsius':\n",
    "            if medida_destino == 'farenheit':\n",
    "                temperatura = (valor * 9/5) + 32\n",
    "            if medida_destino == 'kelvin':\n",
    "                temperatura = valor + 273.15\n",
    "        if medida_origen == 'kelvin':\n",
    "            if medida_destino == 'celsius':\n",
    "                temperatura = valor - 273.15\n",
    "            if medida_destino == 'farenheit':\n",
    "                temperatura = ((valor -273.15)*1.8)+32\n",
    "        if medida_origen == 'farenheit':\n",
    "            if medida_destino == 'celsius':\n",
    "                temperatura = (valor - 32)/(9/5)\n",
    "            if medida_destino == 'kelvin':\n",
    "                temperatura = ((valor -32)/1.8)+273.15\n",
    "        return temperatura"
   ]
  },
  {
   "attachments": {},
   "cell_type": "markdown",
   "metadata": {},
   "source": [
    "2) En la función que hace la conversión de grados, validar que los parámetros enviados sean los esperados, de no serlo, informar cuáles son los valores esperados."
   ]
  },
  {
   "cell_type": "code",
   "execution_count": null,
   "metadata": {},
   "outputs": [],
   "source": []
  },
  {
   "attachments": {},
   "cell_type": "markdown",
   "metadata": {},
   "source": [
    "3) Importar el modulo \"unittest\" y crear los siguientes casos de pruebas sobre la clase utilizada en el punto 2<br>\n",
    "Creacion del objeto incorrecta<br>\n",
    "Creacion correcta del objeto<br>\n",
    "Metodo valor_modal()<br>\n",
    "\n",
    "Se puede usar \"raise ValueError()\" en la creación de la clase para verificar el error. Investigar sobre esta funcionalidad."
   ]
  },
  {
   "cell_type": "code",
   "execution_count": null,
   "metadata": {},
   "outputs": [],
   "source": []
  },
  {
   "attachments": {},
   "cell_type": "markdown",
   "metadata": {},
   "source": [
    "4) Probar una creación incorrecta y visualizar la salida del \"raise\""
   ]
  },
  {
   "cell_type": "code",
   "execution_count": null,
   "metadata": {},
   "outputs": [],
   "source": []
  },
  {
   "attachments": {},
   "cell_type": "markdown",
   "metadata": {},
   "source": [
    "6) Agregar casos de pruebas para el método verifica_primos() realizando el cambio en la clase, para que devuelva una lista de True o False en función de que el elemento en la posisicón sea o no primo"
   ]
  },
  {
   "cell_type": "code",
   "execution_count": null,
   "metadata": {},
   "outputs": [],
   "source": []
  },
  {
   "attachments": {},
   "cell_type": "markdown",
   "metadata": {},
   "source": [
    "7) Agregar casos de pruebas para el método conversion_grados()"
   ]
  },
  {
   "cell_type": "code",
   "execution_count": null,
   "metadata": {},
   "outputs": [],
   "source": []
  },
  {
   "attachments": {},
   "cell_type": "markdown",
   "metadata": {},
   "source": [
    "8) Agregar casos de pruebas para el método factorial()"
   ]
  },
  {
   "cell_type": "code",
   "execution_count": null,
   "metadata": {},
   "outputs": [],
   "source": []
  }
 ],
 "metadata": {
  "interpreter": {
   "hash": "c85384e4cb51c8b72350f3a8712cc8351fdc3955e32a27f9b60c6242ab125f01"
  },
  "kernelspec": {
   "display_name": "Python 3 (ipykernel)",
   "language": "python",
   "name": "python3"
  },
  "language_info": {
   "codemirror_mode": {
    "name": "ipython",
    "version": 3
   },
   "file_extension": ".py",
   "mimetype": "text/x-python",
   "name": "python",
   "nbconvert_exporter": "python",
   "pygments_lexer": "ipython3",
   "version": "3.9.7"
  }
 },
 "nbformat": 4,
 "nbformat_minor": 4
}
